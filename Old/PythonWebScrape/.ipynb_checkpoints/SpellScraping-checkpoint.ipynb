{
 "cells": [
  {
   "cell_type": "code",
   "execution_count": 178,
   "id": "33875428-d723-4445-b3f9-c98788c716fa",
   "metadata": {},
   "outputs": [],
   "source": [
    "## This sets some printing options\n",
    "## that make output look nicer.\n",
    "\n",
    "from pprint import pprint as print\n",
    "import pandas as pd\n",
    "import requests\n",
    "from lxml import html,etree\n",
    "\n",
    "pd.set_option('display.width', 133)\n",
    "pd.set_option('display.max_colwidth', 30)\n",
    "pd.set_option('display.max_columns', 5)"
   ]
  },
  {
   "cell_type": "code",
   "execution_count": 179,
   "id": "bc18ced2-4d6f-4429-9988-ac76ccedb089",
   "metadata": {},
   "outputs": [
    {
     "name": "stdout",
     "output_type": "stream",
     "text": [
      "'http://dnd5e.wikidot.com/spells'\n"
     ]
    },
    {
     "data": {
      "text/plain": [
       "'text/html; charset=utf-8'"
      ]
     },
     "execution_count": 179,
     "metadata": {},
     "output_type": "execute_result"
    }
   ],
   "source": [
    "dnd_domain = 'http://dnd5e.wikidot.com'\n",
    "choice_domain= 'spells'\n",
    "\n",
    "dnd_url = (dnd_domain\n",
    "                + \"/\"\n",
    "                + choice_domain)\n",
    "\n",
    "print(dnd_url)\n",
    "\n",
    "spells = requests.get(dnd_url)\n",
    "\n",
    "spells.headers['Content-Type']"
   ]
  },
  {
   "cell_type": "code",
   "execution_count": 180,
   "id": "7e23e092-e635-470d-8c15-2dae144768b6",
   "metadata": {},
   "outputs": [],
   "source": [
    "spells_html = html.fromstring(spells.text)\n",
    "\n",
    "#html.open_in_browser(spells_html, encoding = 'UTF-8')\n"
   ]
  },
  {
   "cell_type": "code",
   "execution_count": 181,
   "id": "22f3c76e-746a-4617-b00e-4549090239de",
   "metadata": {},
   "outputs": [
    {
     "name": "stdout",
     "output_type": "stream",
     "text": [
      "[<Element div at 0x225992151d0>]\n"
     ]
    }
   ],
   "source": [
    "spells_list_html = spells_html.xpath('//*[@id=\"wiki-tabview-8d4b350373d046fa0c6b0d6db5cd27d6\"]/div')\n",
    "#spells_list_html = spells_html.xpath('//*[@id=\"wiki-tab-0-0\"]/div/table/tbody/tr[2]/td[1]/a')\n",
    "\n",
    "print(spells_list_html)"
   ]
  },
  {
   "cell_type": "code",
   "execution_count": 182,
   "id": "1866d829-9932-4ed8-b360-4da3dcff2bef",
   "metadata": {},
   "outputs": [],
   "source": [
    "second_spell_html = spells_list_html[0]\n",
    "#html.open_in_browser(second_spell_html, encoding = 'UTF-8')"
   ]
  },
  {
   "cell_type": "code",
   "execution_count": 229,
   "id": "42349ec6-bc7e-4ac0-b06c-c3233d9079ec",
   "metadata": {},
   "outputs": [
    {
     "name": "stdout",
     "output_type": "stream",
     "text": [
      "558\n"
     ]
    }
   ],
   "source": [
    "spell_list = []\n",
    "for i in range(9):\n",
    "    element = second_spell_html.xpath(f'//*[@id=\"wiki-tab-0-{i}\"]/div/table/tr/td/a/@href')\n",
    "    for el in element:\n",
    "        spell_list.append(el)\n",
    "print(len(spell_list))\n",
    "#print(element)\n",
    "spell_url\n"
   ]
  },
  {
   "cell_type": "code",
   "execution_count": null,
   "id": "d165492c-96bb-40ee-b630-e59277770213",
   "metadata": {},
   "outputs": [],
   "source": []
  },
  {
   "cell_type": "code",
   "execution_count": null,
   "id": "eb0fada0-b405-4ed7-b063-387cb69d7398",
   "metadata": {},
   "outputs": [],
   "source": []
  }
 ],
 "metadata": {
  "kernelspec": {
   "display_name": "Python 3 (ipykernel)",
   "language": "python",
   "name": "python3"
  },
  "language_info": {
   "codemirror_mode": {
    "name": "ipython",
    "version": 3
   },
   "file_extension": ".py",
   "mimetype": "text/x-python",
   "name": "python",
   "nbconvert_exporter": "python",
   "pygments_lexer": "ipython3",
   "version": "3.12.2"
  }
 },
 "nbformat": 4,
 "nbformat_minor": 5
}
