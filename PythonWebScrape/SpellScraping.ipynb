{
 "cells": [
  {
   "cell_type": "code",
   "execution_count": 178,
   "id": "33875428-d723-4445-b3f9-c98788c716fa",
   "metadata": {},
   "outputs": [],
   "source": [
    "## This sets some printing options\n",
    "## that make output look nicer.\n",
    "\n",
    "from pprint import pprint as print\n",
    "import pandas as pd\n",
    "import requests\n",
    "from lxml import html,etree\n",
    "\n",
    "pd.set_option('display.width', 133)\n",
    "pd.set_option('display.max_colwidth', 30)\n",
    "pd.set_option('display.max_columns', 5)"
   ]
  },
  {
   "cell_type": "code",
   "execution_count": 179,
   "id": "bc18ced2-4d6f-4429-9988-ac76ccedb089",
   "metadata": {},
   "outputs": [
    {
     "name": "stdout",
     "output_type": "stream",
     "text": [
      "'http://dnd5e.wikidot.com/spells'\n"
     ]
    },
    {
     "data": {
      "text/plain": [
       "'text/html; charset=utf-8'"
      ]
     },
     "execution_count": 179,
     "metadata": {},
     "output_type": "execute_result"
    }
   ],
   "source": [
    "dnd_domain = 'http://dnd5e.wikidot.com'\n",
    "choice_domain= 'spells'\n",
    "\n",
    "dnd_url = (dnd_domain\n",
    "                + \"/\"\n",
    "                + choice_domain)\n",
    "\n",
    "print(dnd_url)\n",
    "\n",
    "spells = requests.get(dnd_url)\n",
    "\n",
    "spells.headers['Content-Type']"
   ]
  },
  {
   "cell_type": "code",
   "execution_count": 180,
   "id": "7e23e092-e635-470d-8c15-2dae144768b6",
   "metadata": {},
   "outputs": [],
   "source": [
    "spells_html = html.fromstring(spells.text)\n",
    "\n",
    "#html.open_in_browser(spells_html, encoding = 'UTF-8')\n"
   ]
  },
  {
   "cell_type": "code",
   "execution_count": 181,
   "id": "22f3c76e-746a-4617-b00e-4549090239de",
   "metadata": {},
   "outputs": [
    {
     "name": "stdout",
     "output_type": "stream",
     "text": [
      "[<Element div at 0x225992151d0>]\n"
     ]
    }
   ],
   "source": [
    "spells_list_html = spells_html.xpath('//*[@id=\"wiki-tabview-8d4b350373d046fa0c6b0d6db5cd27d6\"]/div')\n",
    "#spells_list_html = spells_html.xpath('//*[@id=\"wiki-tab-0-0\"]/div/table/tbody/tr[2]/td[1]/a')\n",
    "\n",
    "print(spells_list_html)"
   ]
  },
  {
   "cell_type": "code",
   "execution_count": 182,
   "id": "1866d829-9932-4ed8-b360-4da3dcff2bef",
   "metadata": {},
   "outputs": [],
   "source": [
    "second_spell_html = spells_list_html[0]\n",
    "#html.open_in_browser(second_spell_html, encoding = 'UTF-8')"
   ]
  },
  {
   "cell_type": "code",
   "execution_count": 229,
   "id": "42349ec6-bc7e-4ac0-b06c-c3233d9079ec",
   "metadata": {},
   "outputs": [
    {
     "name": "stdout",
     "output_type": "stream",
     "text": [
      "558\n"
     ]
    }
   ],
   "source": [
    "spell_list = []\n",
    "for i in range(9):\n",
    "    element = second_spell_html.xpath(f'//*[@id=\"wiki-tab-0-{i}\"]/div/table/tr/td/a/@href')\n",
    "    for el in element:\n",
    "        spell_list.append(el)\n",
    "print(len(spell_list))\n",
    "#print(element)\n",
    "spell_url\n"
   ]
  },
  {
   "cell_type": "code",
   "execution_count": 7,
   "id": "d165492c-96bb-40ee-b630-e59277770213",
   "metadata": {},
   "outputs": [
    {
     "ename": "TypeError",
     "evalue": "'Styler' object is not callable",
     "output_type": "error",
     "traceback": [
      "\u001b[1;31m---------------------------------------------------------------------------\u001b[0m",
      "\u001b[1;31mTypeError\u001b[0m                                 Traceback (most recent call last)",
      "Cell \u001b[1;32mIn[7], line 69\u001b[0m\n\u001b[0;32m     67\u001b[0m SpellUrlGet \u001b[38;5;241m=\u001b[39m requests\u001b[38;5;241m.\u001b[39mget(sourceURL)\n\u001b[0;32m     68\u001b[0m SpellContent \u001b[38;5;241m=\u001b[39m BeautifulSoup(SpellUrlGet\u001b[38;5;241m.\u001b[39mcontent, \u001b[38;5;124m\"\u001b[39m\u001b[38;5;124mhtml.parser\u001b[39m\u001b[38;5;124m\"\u001b[39m)\n\u001b[1;32m---> 69\u001b[0m Spellinfolist \u001b[38;5;241m=\u001b[39m \u001b[43mpull_spellinfo\u001b[49m\u001b[43m(\u001b[49m\u001b[43mSpellContent\u001b[49m\u001b[43m)\u001b[49m\n\u001b[0;32m     70\u001b[0m clean_spellinfo(Spellinfolist,spell_details)\n\u001b[0;32m     71\u001b[0m \u001b[38;5;66;03m#print(spell_details)\u001b[39;00m\n",
      "Cell \u001b[1;32mIn[7], line 38\u001b[0m, in \u001b[0;36mpull_spellinfo\u001b[1;34m(SpellContent)\u001b[0m\n\u001b[0;32m     35\u001b[0m         res\u001b[38;5;241m.\u001b[39mappend(row)\n\u001b[0;32m     37\u001b[0m df \u001b[38;5;241m=\u001b[39m pd\u001b[38;5;241m.\u001b[39mDataFrame(res, columns\u001b[38;5;241m=\u001b[39m[\u001b[38;5;124m\"\u001b[39m\u001b[38;5;124mA\u001b[39m\u001b[38;5;124m\"\u001b[39m, \u001b[38;5;124m\"\u001b[39m\u001b[38;5;124mB\u001b[39m\u001b[38;5;124m\"\u001b[39m, \u001b[38;5;124m\"\u001b[39m\u001b[38;5;124mC\u001b[39m\u001b[38;5;124m\"\u001b[39m, \u001b[38;5;124m\"\u001b[39m\u001b[38;5;124mD\u001b[39m\u001b[38;5;124m\"\u001b[39m,\u001b[38;5;124m'\u001b[39m\u001b[38;5;124mE\u001b[39m\u001b[38;5;124m'\u001b[39m,\u001b[38;5;124m'\u001b[39m\u001b[38;5;124mF\u001b[39m\u001b[38;5;124m'\u001b[39m])\n\u001b[1;32m---> 38\u001b[0m \u001b[38;5;28mprint\u001b[39m(\u001b[43mdf\u001b[49m\u001b[38;5;241;43m.\u001b[39;49m\u001b[43mstyle\u001b[49m\u001b[43m(\u001b[49m\u001b[43m)\u001b[49m)\n\u001b[0;32m     41\u001b[0m temp\u001b[38;5;241m.\u001b[39mappend(SpellContent\u001b[38;5;241m.\u001b[39mfind(\u001b[38;5;124m'\u001b[39m\u001b[38;5;124mdiv\u001b[39m\u001b[38;5;124m'\u001b[39m,attrs\u001b[38;5;241m=\u001b[39m{\u001b[38;5;124m'\u001b[39m\u001b[38;5;124mclass\u001b[39m\u001b[38;5;124m'\u001b[39m:\u001b[38;5;124m'\u001b[39m\u001b[38;5;124mpage-title page-header\u001b[39m\u001b[38;5;124m'\u001b[39m})\u001b[38;5;241m.\u001b[39mtext)\n\u001b[0;32m     42\u001b[0m \u001b[38;5;28;01mfor\u001b[39;00m l \u001b[38;5;129;01min\u001b[39;00m SpellContent\u001b[38;5;241m.\u001b[39mfind(\u001b[38;5;124m'\u001b[39m\u001b[38;5;124mdiv\u001b[39m\u001b[38;5;124m'\u001b[39m,attrs\u001b[38;5;241m=\u001b[39m{\u001b[38;5;124m'\u001b[39m\u001b[38;5;124mid\u001b[39m\u001b[38;5;124m'\u001b[39m: \u001b[38;5;124m'\u001b[39m\u001b[38;5;124mpage-content\u001b[39m\u001b[38;5;124m'\u001b[39m})\u001b[38;5;241m.\u001b[39mstrings:\n",
      "\u001b[1;31mTypeError\u001b[0m: 'Styler' object is not callable"
     ]
    }
   ],
   "source": [
    "import re\n",
    "from collections import OrderedDict\n",
    "import pandas as pd\n",
    "from io import StringIO\n",
    "from bs4 import BeautifulSoup\n",
    "import requests\n",
    "\n",
    "\n",
    "SpellListUrl = requests.get('http://dnd5e.wikidot.com/spells')\n",
    "source1 = BeautifulSoup(SpellListUrl.content, \"html.parser\")\n",
    "\n",
    "# the lambda function checks if the href attribute contains \"spell\" and does not contain \"spells\".\n",
    "# If both conditions are true, it returns True, indicating that the tag should be included in the result.\n",
    "# courtesy of Chatgpt\n",
    "\n",
    "# allSpellNames = []\n",
    "# allSpellLinks = []\n",
    "# for a in source1.find_all(href=lambda href: href and \"spell\" in href and \"spells\" not in href):\n",
    "#     allSpellLinks.append(a['href'])\n",
    "#     allSpellNames.append(a.text)\n",
    "\n",
    "\n",
    "\n",
    "\n",
    "def pull_spellinfo(SpellContent):\n",
    "    temp = []\n",
    "\n",
    "    table = SpellContent.find('div',attrs={'id': 'page-content'}).find('table') #use a 'try' here and if if positive then go into seperate function for finding table data\n",
    "    table_rows = table.find_all('tr')\n",
    "    res = []\n",
    "    for tr in table_rows:\n",
    "        td = tr.find_all('td')\n",
    "        row = [tr.text.strip() for tr in td if tr.text.strip()]\n",
    "        if row:\n",
    "            res.append(row)\n",
    "\n",
    "    df = pd.DataFrame(res, columns=[\"A\", \"B\", \"C\", \"D\",'E','F'])\n",
    "    print(df.style())\n",
    "\n",
    "\n",
    "    temp.append(SpellContent.find('div',attrs={'class':'page-title page-header'}).text)\n",
    "    for l in SpellContent.find('div',attrs={'id': 'page-content'}).strings:\n",
    "        temp.append(l)\n",
    "    Spellinfolist = list(filter(lambda a: a != '\\n', temp))\n",
    "    return Spellinfolist\n",
    "    # Need to do post-processing with a table here ( make separate function for this)\n",
    "    # also maybe for list as well\n",
    "\n",
    "def clean_spellinfo(testwords,spell_details):\n",
    "    #testwords = testwords[1].split()\n",
    "    for x in range(len(testwords)):\n",
    "        testwords[x] = re.sub(r'Source: ', '', testwords[x], flags=re.IGNORECASE)\n",
    "    spell_details['Spell'] = testwords[0]\n",
    "    keyword = testwords.index(\"Casting Time:\")\n",
    "    #print(testwords[keyword+1])\n",
    "\n",
    "\n",
    "\n",
    "\n",
    "\n",
    "testList=['/spell:acid-splash','/spell:alarm','/spell:antagonize','/spell:druidcraft','/spell:summon-celestial']\n",
    "\n",
    "spell_details = OrderedDict ({'Spell': '','Source':'', 'School': '','Level':'', 'Casting Time': '','Range':'','Components':'','Duration':'', 'Description': '', 'At Higher Levels': '','Spell lists': '','Link':'' })\n",
    "\n",
    "#for i in range(len(testList)):\n",
    "sourceURL = ('http://dnd5e.wikidot.com' + testList[4])\n",
    "SpellUrlGet = requests.get(sourceURL)\n",
    "SpellContent = BeautifulSoup(SpellUrlGet.content, \"html.parser\")\n",
    "Spellinfolist = pull_spellinfo(SpellContent)\n",
    "clean_spellinfo(Spellinfolist,spell_details)\n",
    "#print(spell_details)"
   ]
  },
  {
   "cell_type": "code",
   "execution_count": null,
   "id": "eb0fada0-b405-4ed7-b063-387cb69d7398",
   "metadata": {},
   "outputs": [],
   "source": []
  }
 ],
 "metadata": {
  "kernelspec": {
   "display_name": "Python 3 (ipykernel)",
   "language": "python",
   "name": "python3"
  },
  "language_info": {
   "codemirror_mode": {
    "name": "ipython",
    "version": 3
   },
   "file_extension": ".py",
   "mimetype": "text/x-python",
   "name": "python",
   "nbconvert_exporter": "python",
   "pygments_lexer": "ipython3",
   "version": "3.12.2"
  }
 },
 "nbformat": 4,
 "nbformat_minor": 5
}
